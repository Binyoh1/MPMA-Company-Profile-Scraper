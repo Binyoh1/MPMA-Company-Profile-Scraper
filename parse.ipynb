{
 "cells": [
  {
   "cell_type": "code",
   "execution_count": 1,
   "metadata": {},
   "outputs": [],
   "source": [
    "import pandas as pd\n",
    "import numpy as np"
   ]
  },
  {
   "cell_type": "code",
   "execution_count": 2,
   "metadata": {},
   "outputs": [],
   "source": [
    "# read csv files\n",
    "profiles_raw = pd.read_csv('./export/profiles.csv')\n",
    "emails_raw = pd.read_csv('./export/emails.csv')"
   ]
  },
  {
   "cell_type": "code",
   "execution_count": 3,
   "metadata": {},
   "outputs": [
    {
     "name": "stdout",
     "output_type": "stream",
     "text": [
      "<class 'pandas.core.frame.DataFrame'>\n",
      "RangeIndex: 812 entries, 0 to 811\n",
      "Data columns (total 18 columns):\n",
      " #   Column                               Non-Null Count  Dtype  \n",
      "---  ------                               --------------  -----  \n",
      " 0   Company                              812 non-null    object \n",
      " 1   Business Registration                703 non-null    object \n",
      " 2   Year of Incorporation                756 non-null    float64\n",
      " 3   Chief Executive                      773 non-null    object \n",
      " 4   CEO Position                         748 non-null    object \n",
      " 5   Business Enquiry                     757 non-null    object \n",
      " 6   Business Contact Person Position     711 non-null    object \n",
      " 7   Office Address                       812 non-null    object \n",
      " 8   Postcode                             800 non-null    float64\n",
      " 9   City/Town                            331 non-null    object \n",
      " 10  State                                804 non-null    object \n",
      " 11  Country                              811 non-null    object \n",
      " 12  Telephone                            808 non-null    object \n",
      " 13  Fax                                  711 non-null    object \n",
      " 14  Website                              553 non-null    object \n",
      " 15  Production Processes                 629 non-null    object \n",
      " 16  Products Manufactured/Business Line  783 non-null    object \n",
      " 17  Current Export Markets               485 non-null    object \n",
      "dtypes: float64(2), object(16)\n",
      "memory usage: 114.3+ KB\n"
     ]
    }
   ],
   "source": [
    "# summary info for the raw profiles df\n",
    "profiles_raw.info()"
   ]
  },
  {
   "cell_type": "code",
   "execution_count": 4,
   "metadata": {},
   "outputs": [
    {
     "name": "stdout",
     "output_type": "stream",
     "text": [
      "<class 'pandas.core.frame.DataFrame'>\n",
      "RangeIndex: 812 entries, 0 to 811\n",
      "Data columns (total 1 columns):\n",
      " #   Column  Non-Null Count  Dtype \n",
      "---  ------  --------------  ----- \n",
      " 0   Email   774 non-null    object\n",
      "dtypes: object(1)\n",
      "memory usage: 6.5+ KB\n"
     ]
    }
   ],
   "source": [
    "# summary info for the raw emails df\n",
    "emails_raw.info()"
   ]
  },
  {
   "cell_type": "code",
   "execution_count": 5,
   "metadata": {},
   "outputs": [],
   "source": [
    "# concatenate both dataframes horrizontally\n",
    "profiles = pd.concat([profiles_raw, emails_raw], axis=1)"
   ]
  },
  {
   "cell_type": "code",
   "execution_count": 6,
   "metadata": {},
   "outputs": [
    {
     "name": "stdout",
     "output_type": "stream",
     "text": [
      "<class 'pandas.core.frame.DataFrame'>\n",
      "RangeIndex: 812 entries, 0 to 811\n",
      "Data columns (total 19 columns):\n",
      " #   Column                               Non-Null Count  Dtype  \n",
      "---  ------                               --------------  -----  \n",
      " 0   Company                              812 non-null    object \n",
      " 1   Business Registration                703 non-null    object \n",
      " 2   Year of Incorporation                756 non-null    float64\n",
      " 3   Chief Executive                      773 non-null    object \n",
      " 4   CEO Position                         748 non-null    object \n",
      " 5   Business Enquiry                     757 non-null    object \n",
      " 6   Business Contact Person Position     711 non-null    object \n",
      " 7   Office Address                       812 non-null    object \n",
      " 8   Postcode                             800 non-null    float64\n",
      " 9   City/Town                            331 non-null    object \n",
      " 10  State                                804 non-null    object \n",
      " 11  Country                              811 non-null    object \n",
      " 12  Telephone                            808 non-null    object \n",
      " 13  Fax                                  711 non-null    object \n",
      " 14  Website                              553 non-null    object \n",
      " 15  Production Processes                 629 non-null    object \n",
      " 16  Products Manufactured/Business Line  783 non-null    object \n",
      " 17  Current Export Markets               485 non-null    object \n",
      " 18  Email                                774 non-null    object \n",
      "dtypes: float64(2), object(17)\n",
      "memory usage: 120.7+ KB\n"
     ]
    }
   ],
   "source": [
    "profiles.info()"
   ]
  },
  {
   "cell_type": "code",
   "execution_count": 7,
   "metadata": {},
   "outputs": [],
   "source": [
    "# extract combined dataframe column list\n",
    "cols_list = profiles.columns.to_list()"
   ]
  },
  {
   "cell_type": "code",
   "execution_count": 8,
   "metadata": {},
   "outputs": [
    {
     "data": {
      "text/plain": [
       "19"
      ]
     },
     "execution_count": 8,
     "metadata": {},
     "output_type": "execute_result"
    }
   ],
   "source": [
    "len(cols_list)"
   ]
  },
  {
   "cell_type": "code",
   "execution_count": 9,
   "metadata": {},
   "outputs": [
    {
     "data": {
      "text/plain": [
       "['Company',\n",
       " 'Business Registration',\n",
       " 'Year of Incorporation',\n",
       " 'Chief Executive',\n",
       " 'CEO Position',\n",
       " 'Business Enquiry',\n",
       " 'Business Contact Person Position',\n",
       " 'Office Address',\n",
       " 'Postcode',\n",
       " 'City/Town',\n",
       " 'State',\n",
       " 'Country',\n",
       " 'Telephone',\n",
       " 'Fax',\n",
       " 'Website',\n",
       " 'Production Processes',\n",
       " 'Products Manufactured/Business Line',\n",
       " 'Current Export Markets',\n",
       " 'Email']"
      ]
     },
     "execution_count": 9,
     "metadata": {},
     "output_type": "execute_result"
    }
   ],
   "source": [
    "cols_list"
   ]
  },
  {
   "cell_type": "code",
   "execution_count": 10,
   "metadata": {},
   "outputs": [],
   "source": [
    "# extracting the \"Email\" column from the list\n",
    "email = cols_list.pop(-1)"
   ]
  },
  {
   "cell_type": "code",
   "execution_count": 11,
   "metadata": {},
   "outputs": [],
   "source": [
    "# reordering the column list, inserting \"Email\" column at index 14\n",
    "cols_list.insert(14, email)"
   ]
  },
  {
   "cell_type": "code",
   "execution_count": 12,
   "metadata": {},
   "outputs": [
    {
     "data": {
      "text/plain": [
       "19"
      ]
     },
     "execution_count": 12,
     "metadata": {},
     "output_type": "execute_result"
    }
   ],
   "source": [
    "# confirming column list number of columns is the same as before\n",
    "len(cols_list)"
   ]
  },
  {
   "cell_type": "code",
   "execution_count": 13,
   "metadata": {},
   "outputs": [
    {
     "data": {
      "text/plain": [
       "['Company',\n",
       " 'Business Registration',\n",
       " 'Year of Incorporation',\n",
       " 'Chief Executive',\n",
       " 'CEO Position',\n",
       " 'Business Enquiry',\n",
       " 'Business Contact Person Position',\n",
       " 'Office Address',\n",
       " 'Postcode',\n",
       " 'City/Town',\n",
       " 'State',\n",
       " 'Country',\n",
       " 'Telephone',\n",
       " 'Fax',\n",
       " 'Email',\n",
       " 'Website',\n",
       " 'Production Processes',\n",
       " 'Products Manufactured/Business Line',\n",
       " 'Current Export Markets']"
      ]
     },
     "execution_count": 13,
     "metadata": {},
     "output_type": "execute_result"
    }
   ],
   "source": [
    "# confirming column list is reordered correctly\n",
    "cols_list"
   ]
  },
  {
   "cell_type": "code",
   "execution_count": 14,
   "metadata": {},
   "outputs": [],
   "source": [
    "# reordering column list in the main dataframe\n",
    "profiles = profiles[cols_list]"
   ]
  },
  {
   "cell_type": "code",
   "execution_count": 15,
   "metadata": {},
   "outputs": [
    {
     "name": "stdout",
     "output_type": "stream",
     "text": [
      "<class 'pandas.core.frame.DataFrame'>\n",
      "RangeIndex: 812 entries, 0 to 811\n",
      "Data columns (total 19 columns):\n",
      " #   Column                               Non-Null Count  Dtype  \n",
      "---  ------                               --------------  -----  \n",
      " 0   Company                              812 non-null    object \n",
      " 1   Business Registration                703 non-null    object \n",
      " 2   Year of Incorporation                756 non-null    float64\n",
      " 3   Chief Executive                      773 non-null    object \n",
      " 4   CEO Position                         748 non-null    object \n",
      " 5   Business Enquiry                     757 non-null    object \n",
      " 6   Business Contact Person Position     711 non-null    object \n",
      " 7   Office Address                       812 non-null    object \n",
      " 8   Postcode                             800 non-null    float64\n",
      " 9   City/Town                            331 non-null    object \n",
      " 10  State                                804 non-null    object \n",
      " 11  Country                              811 non-null    object \n",
      " 12  Telephone                            808 non-null    object \n",
      " 13  Fax                                  711 non-null    object \n",
      " 14  Email                                774 non-null    object \n",
      " 15  Website                              553 non-null    object \n",
      " 16  Production Processes                 629 non-null    object \n",
      " 17  Products Manufactured/Business Line  783 non-null    object \n",
      " 18  Current Export Markets               485 non-null    object \n",
      "dtypes: float64(2), object(17)\n",
      "memory usage: 120.7+ KB\n"
     ]
    }
   ],
   "source": [
    "profiles.info()"
   ]
  },
  {
   "cell_type": "code",
   "execution_count": 16,
   "metadata": {},
   "outputs": [],
   "source": [
    "# exporting the cleaned profiles df to csv and excel format\n",
    "profiles.to_csv('./export/profiles-clean.csv', index=False)\n",
    "\n",
    "profiles.to_excel('./export/profiles-clean.xlsx', sheet_name=\"Company Profiles\", index=False)"
   ]
  }
 ],
 "metadata": {
  "kernelspec": {
   "display_name": ".venv",
   "language": "python",
   "name": "python3"
  },
  "language_info": {
   "codemirror_mode": {
    "name": "ipython",
    "version": 3
   },
   "file_extension": ".py",
   "mimetype": "text/x-python",
   "name": "python",
   "nbconvert_exporter": "python",
   "pygments_lexer": "ipython3",
   "version": "3.12.9"
  }
 },
 "nbformat": 4,
 "nbformat_minor": 2
}
